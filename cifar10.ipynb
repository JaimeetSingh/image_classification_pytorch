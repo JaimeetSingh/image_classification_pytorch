{
 "cells": [
  {
   "cell_type": "code",
   "execution_count": 1,
   "id": "8d3117bf",
   "metadata": {},
   "outputs": [],
   "source": [
    "import torch\n",
    "import torchvision\n",
    "import torchvision.transforms as transforms\n",
    "import torchvision.datasets as datasets\n",
    "import torch.nn as nn\n",
    "import torch.optim as optim\n",
    "import matplotlib.pyplot as plt\n",
    "from torch.utils.tensorboard import SummaryWriter"
   ]
  },
  {
   "cell_type": "code",
   "execution_count": 2,
   "id": "48a7b51d",
   "metadata": {},
   "outputs": [
    {
     "data": {
      "text/plain": [
       "['AutoAugment',\n",
       " 'AutoAugmentPolicy',\n",
       " 'CenterCrop',\n",
       " 'ColorJitter',\n",
       " 'Compose',\n",
       " 'ConvertImageDtype',\n",
       " 'FiveCrop',\n",
       " 'GaussianBlur',\n",
       " 'Grayscale',\n",
       " 'InterpolationMode',\n",
       " 'Lambda',\n",
       " 'LinearTransformation',\n",
       " 'Normalize',\n",
       " 'PILToTensor',\n",
       " 'Pad',\n",
       " 'RandomAdjustSharpness',\n",
       " 'RandomAffine',\n",
       " 'RandomApply',\n",
       " 'RandomAutocontrast',\n",
       " 'RandomChoice',\n",
       " 'RandomCrop',\n",
       " 'RandomEqualize',\n",
       " 'RandomErasing',\n",
       " 'RandomGrayscale',\n",
       " 'RandomHorizontalFlip',\n",
       " 'RandomInvert',\n",
       " 'RandomOrder',\n",
       " 'RandomPerspective',\n",
       " 'RandomPosterize',\n",
       " 'RandomResizedCrop',\n",
       " 'RandomRotation',\n",
       " 'RandomSizedCrop',\n",
       " 'RandomSolarize',\n",
       " 'RandomVerticalFlip',\n",
       " 'Resize',\n",
       " 'Scale',\n",
       " 'TenCrop',\n",
       " 'ToPILImage',\n",
       " 'ToTensor',\n",
       " '__builtins__',\n",
       " '__cached__',\n",
       " '__doc__',\n",
       " '__file__',\n",
       " '__loader__',\n",
       " '__name__',\n",
       " '__package__',\n",
       " '__path__',\n",
       " '__spec__',\n",
       " 'autoaugment',\n",
       " 'functional',\n",
       " 'functional_pil',\n",
       " 'functional_tensor',\n",
       " 'transforms']"
      ]
     },
     "execution_count": 2,
     "metadata": {},
     "output_type": "execute_result"
    }
   ],
   "source": [
    "dir(transforms)"
   ]
  },
  {
   "cell_type": "code",
   "execution_count": 3,
   "id": "612ed5c0",
   "metadata": {},
   "outputs": [],
   "source": [
    "# writer = SummaryWriter(\"runs/cifar10\")"
   ]
  },
  {
   "cell_type": "code",
   "execution_count": 4,
   "id": "e37467a9",
   "metadata": {},
   "outputs": [],
   "source": [
    "cifar10_train = datasets.CIFAR10('../../downloads/cifar10', train=True, transform=transforms.ToTensor())\n",
    "cifar10_value = datasets.CIFAR10('../../downloads/cifar10', train=False, transform=transforms.ToTensor())"
   ]
  },
  {
   "cell_type": "code",
   "execution_count": 5,
   "id": "57fae97f",
   "metadata": {},
   "outputs": [],
   "source": [
    "classes = ('plane', 'car', 'bird', 'cat','deer', 'dog', 'frog', 'horse', 'ship', 'truck')"
   ]
  },
  {
   "cell_type": "code",
   "execution_count": 6,
   "id": "22ba1631",
   "metadata": {
    "scrolled": true
   },
   "outputs": [
    {
     "data": {
      "text/plain": [
       "(<matplotlib.image.AxesImage at 0x1a39731c670>, 'truck')"
      ]
     },
     "execution_count": 6,
     "metadata": {},
     "output_type": "execute_result"
    },
    {
     "data": {
      "image/png": "[encoded data removed]",
      "text/plain": [
       "<Figure size 432x288 with 1 Axes>"
      ]
     },
     "metadata": {
      "needs_background": "light"
     },
     "output_type": "display_data"
    }
   ],
   "source": [
    "img,label = cifar10_train[67]\n",
    "plt.imshow(img.permute(1,2,0)),classes[label]\n"
   ]
  },
  {
   "cell_type": "code",
   "execution_count": 7,
   "id": "59d3e6f2",
   "metadata": {},
   "outputs": [],
   "source": [
    "imgs = torch.stack([img for img,_ in cifar10_train], 3)"
   ]
  },
  {
   "cell_type": "code",
   "execution_count": 8,
   "id": "1a431f66",
   "metadata": {},
   "outputs": [
    {
     "data": {
      "text/plain": [
       "torch.Size([3, 51200000])"
      ]
     },
     "execution_count": 8,
     "metadata": {},
     "output_type": "execute_result"
    }
   ],
   "source": [
    "imgs = imgs.view(3,-1)\n",
    "imgs.shape"
   ]
  },
  {
   "cell_type": "code",
   "execution_count": 9,
   "id": "cc75a8f1",
   "metadata": {},
   "outputs": [
    {
     "data": {
      "text/plain": [
       "tensor([0.4914, 0.4822, 0.4465])"
      ]
     },
     "execution_count": 9,
     "metadata": {},
     "output_type": "execute_result"
    }
   ],
   "source": [
    "mean = imgs.mean(dim=1)\n",
    "mean"
   ]
  },
  {
   "cell_type": "code",
   "execution_count": 10,
   "id": "7f3a9200",
   "metadata": {},
   "outputs": [
    {
     "data": {
      "text/plain": [
       "tensor([0.2470, 0.2435, 0.2616])"
      ]
     },
     "execution_count": 10,
     "metadata": {},
     "output_type": "execute_result"
    }
   ],
   "source": [
    "std = imgs.std(dim=1)\n",
    "std"
   ]
  },
  {
   "cell_type": "code",
   "execution_count": 11,
   "id": "2ae78099",
   "metadata": {},
   "outputs": [],
   "source": [
    "cifar10_t = datasets.CIFAR10('../../downloads/cifar10', train=True, transform=transforms.Compose([transforms.ToTensor(),transforms.Normalize((0.4914, 0.4822, 0.4465),(0.2470, 0.2435, 0.2616))]))\n",
    "cifar10_v = datasets.CIFAR10('../../downloads/cifar10', train=False, transform=transforms.Compose([transforms.ToTensor(),transforms.Normalize((0.4914, 0.4822, 0.4465),(0.2470, 0.2435, 0.2616))]))"
   ]
  },
  {
   "cell_type": "code",
   "execution_count": 12,
   "id": "b9d3f2a7",
   "metadata": {
    "scrolled": true
   },
   "outputs": [
    {
     "name": "stderr",
     "output_type": "stream",
     "text": [
      "Clipping input data to the valid range for imshow with RGB data ([0..1] for floats or [0..255] for integers).\n"
     ]
    },
    {
     "data": {
      "text/plain": [
       "(<matplotlib.image.AxesImage at 0x1a3967c62b0>, 'truck')"
      ]
     },
     "execution_count": 12,
     "metadata": {},
     "output_type": "execute_result"
    },
    {
     "data": {
      "image/png": "[encoded data removed]",
      "text/plain": [
       "<Figure size 432x288 with 1 Axes>"
      ]
     },
     "metadata": {
      "needs_background": "light"
     },
     "output_type": "display_data"
    }
   ],
   "source": [
    "img,label = cifar10_t[67]\n",
    "plt.imshow(img.permute(1,2,0)),classes[label]"
   ]
  },
  {
   "cell_type": "code",
   "execution_count": 13,
   "id": "7e382233",
   "metadata": {},
   "outputs": [],
   "source": [
    "import torch.nn.functional as F\n",
    "import datetime"
   ]
  },
  {
   "cell_type": "code",
   "execution_count": 14,
   "id": "df205339",
   "metadata": {},
   "outputs": [
    {
     "name": "stdout",
     "output_type": "stream",
     "text": [
      "cuda:0\n"
     ]
    }
   ],
   "source": [
    "device = torch.device(\"cuda:0\" if torch.cuda.is_available() else \"cpu\")\n",
    "print(device)"
   ]
  },
  {
   "cell_type": "code",
   "execution_count": 15,
   "id": "49c79ebb",
   "metadata": {},
   "outputs": [],
   "source": [
    "class Net(nn.Module):\n",
    "    def __init__(self):\n",
    "        super().__init__()\n",
    "        self.conv1 = nn.Conv2d(3, 16, kernel_size=5, padding=2)\n",
    "        self.conv2 = nn.Conv2d(16, 20, kernel_size=5, padding=2)\n",
    "        self.conv3 = nn.Conv2d(20, 20, kernel_size=5, padding=2)\n",
    "        self.fc1 = nn.Linear(4*4*20, 10)\n",
    "    def forward(self, x):\n",
    "        out = F.max_pool2d(F.relu(self.conv1(x)),2)\n",
    "        out = F.max_pool2d(F.relu(self.conv2(out)),2)\n",
    "        out = F.max_pool2d(F.relu(self.conv3(out)),2)\n",
    "        out = out.view(-1, 4*4*20)\n",
    "        out = self.fc1(out)\n",
    "        return out\n",
    "        "
   ]
  },
  {
   "cell_type": "code",
   "execution_count": 16,
   "id": "69152ffd",
   "metadata": {},
   "outputs": [],
   "source": [
    "train_loader = torch.utils.data.DataLoader(cifar10_t, batch_size=2, shuffle=True)\n",
    "test_loader = torch.utils.data.DataLoader(cifar10_v, batch_size=2, shuffle=False)"
   ]
  },
  {
   "cell_type": "code",
   "execution_count": 17,
   "id": "d007edd2",
   "metadata": {},
   "outputs": [],
   "source": [
    "# examples = iter(train_loader)\n",
    "# example_data, example_target = next(examples)\n",
    "# print(example_data.shape)\n",
    "# img_grid = torchvision.utils.make_grid(example_data)\n",
    "# writer.add_image('cifar10_images', img_grid)\n",
    "# writer.close()\n"
   ]
  },
  {
   "cell_type": "code",
   "execution_count": 19,
   "id": "6e6ccafa",
   "metadata": {},
   "outputs": [],
   "source": [
    "model = Net()\n",
    "# writer.add_graph(model, example_data)\n",
    "# writer.close()"
   ]
  },
  {
   "cell_type": "code",
   "execution_count": 37,
   "id": "082c5508",
   "metadata": {},
   "outputs": [],
   "source": [
    "def training(n_epochs, model, optimizer, loss_fn, train_loader):\n",
    "    for epoch in range(1, n_epochs+1):\n",
    "        net_loss=0.0\n",
    "        for imgs,labels in train_loader:\n",
    "            imgs = imgs.to(device)\n",
    "            labels = labels.to(device)\n",
    "            output = model(imgs)\n",
    "            loss = loss_fn(output, labels)\n",
    "            \n",
    "            optimizer.zero_grad()\n",
    "            loss.backward()\n",
    "            optimizer.step()\n",
    "            \n",
    "            net_loss+=loss.item()\n",
    "        if epoch==1 or epoch%10==0:\n",
    "            print(f'Time: {datetime.datetime.now()} Epoch: {epoch} Loss: {net_loss/len(train_loader)}')"
   ]
  },
  {
   "cell_type": "code",
   "execution_count": 19,
   "id": "c7650517",
   "metadata": {},
   "outputs": [],
   "source": [
    "def validation(model, train_loader, val_loader):\n",
    "    for name,loader in [('training',train_loader), ('validation',test_loader)]:\n",
    "        correct=0\n",
    "        total=0\n",
    "        with torch.no_grad:\n",
    "            for imgs,labels in loader:\n",
    "                imgs = imgs.to(device)\n",
    "                labels = labels.to(device)\n",
    "                output = model(imgs)\n",
    "                _,predicted = output.max(dim=1)\n",
    "                correct += int((predicted==labels).sum())\n",
    "                total+=len(labels)\n",
    "            accuracy = correct/total\n",
    "            print(f'{name} : {accuracy}')"
   ]
  },
  {
   "cell_type": "code",
   "execution_count": 96,
   "id": "2d349159",
   "metadata": {},
   "outputs": [],
   "source": [
    "n_epochs = 100\n",
    "model = Net().to(device)\n",
    "optimizer = optim.SGD(model.parameters(), lr=1e-4, weight_decay=1e-5)\n",
    "loss_fn = nn.CrossEntropyLoss()"
   ]
  },
  {
   "cell_type": "code",
   "execution_count": 97,
   "id": "2420a337",
   "metadata": {},
   "outputs": [
    {
     "name": "stdout",
     "output_type": "stream",
     "text": [
      "Time: 2021-10-21 19:29:36.793549 Epoch: 1 Loss: 2.2624014054489137\n",
      "Time: 2021-10-21 19:38:08.718434 Epoch: 10 Loss: 1.3141278856831788\n",
      "Time: 2021-10-21 19:47:42.674061 Epoch: 20 Loss: 1.014064262058977\n",
      "Time: 2021-10-21 20:00:05.345440 Epoch: 30 Loss: 0.8839048056271392\n",
      "Time: 2021-10-21 20:08:43.434989 Epoch: 40 Loss: 0.805069047476307\n",
      "Time: 2021-10-21 20:21:54.562532 Epoch: 50 Loss: 0.7461914205536787\n",
      "Time: 2021-10-21 20:31:07.040306 Epoch: 60 Loss: 0.698374562701112\n",
      "Time: 2021-10-21 20:40:13.871005 Epoch: 70 Loss: 0.6582317719379839\n",
      "Time: 2021-10-21 20:48:52.614385 Epoch: 80 Loss: 0.6240888015221312\n",
      "Time: 2021-10-21 20:57:18.364822 Epoch: 90 Loss: 0.593132231529803\n",
      "Time: 2021-10-21 21:05:44.538696 Epoch: 100 Loss: 0.5651829540880388\n"
     ]
    }
   ],
   "source": [
    "training(n_epochs, model, optimizer, loss_fn, train_loader)"
   ]
  },
  {
   "cell_type": "code",
   "execution_count": 98,
   "id": "36aea54a",
   "metadata": {},
   "outputs": [
    {
     "name": "stdout",
     "output_type": "stream",
     "text": [
      "training : 0.81524\n",
      "validation : 0.7139\n"
     ]
    }
   ],
   "source": [
    "validation(model, train_loader, test_loader)"
   ]
  },
  {
   "cell_type": "code",
   "execution_count": 20,
   "id": "62d128c9",
   "metadata": {},
   "outputs": [],
   "source": [
    "torch.save(model.state_dict(), './cifar10')"
   ]
  },
  {
   "cell_type": "code",
   "execution_count": 21,
   "id": "d25344b9",
   "metadata": {},
   "outputs": [
    {
     "data": {
      "text/plain": [
       "<All keys matched successfully>"
      ]
     },
     "execution_count": 21,
     "metadata": {},
     "output_type": "execute_result"
    }
   ],
   "source": [
    "loaded_model = Net().to(device='cpu')\n",
    "loaded_model.load_state_dict(torch.load('./cifar10', map_location='cpu'))"
   ]
  },
  {
   "cell_type": "code",
   "execution_count": 22,
   "id": "1fb76516",
   "metadata": {
    "scrolled": true
   },
   "outputs": [
    {
     "data": {
      "image/png": "[encoded data removed]",
      "text/plain": [
       "<Figure size 432x288 with 1 Axes>"
      ]
     },
     "metadata": {
      "needs_background": "light"
     },
     "output_type": "display_data"
    }
   ],
   "source": [
    "img,label = cifar10_value[127]\n",
    "plt.imshow(img.permute(1,2,0)),classes[label]\n",
    "img,_ = cifar10_v[127]"
   ]
  },
  {
   "cell_type": "code",
   "execution_count": 38,
   "id": "098c9068",
   "metadata": {
    "scrolled": true
   },
   "outputs": [
    {
     "data": {
      "text/plain": [
       "[(86.86314821243286, 'cat'),\n",
       " (12.037186324596405, 'dog'),\n",
       " (0.43433206155896187, 'horse'),\n",
       " (0.40321541018784046, 'frog'),\n",
       " (0.24616646114736795, 'bird'),\n",
       " (0.011507506860652938, 'deer'),\n",
       " (0.0018197712051915005, 'plane'),\n",
       " (0.0013441462215268984, 'truck'),\n",
       " (0.00117121289804345, 'ship'),\n",
       " (0.00010685366760299075, 'car')]"
      ]
     },
     "execution_count": 38,
     "metadata": {},
     "output_type": "execute_result"
    }
   ],
   "source": [
    "with torch.no_grad():\n",
    "    index = loaded_model(img.unsqueeze(0))\n",
    "    index = F.softmax(index, dim=1)[0]\n",
    "    index = [(value.item()*100,classes[i]) for i,value in enumerate(index)]\n",
    "index = sorted(index, key=lambda x:x[0], reverse=True)\n",
    "index"
   ]
  },
  {
   "cell_type": "code",
   "execution_count": 26,
   "id": "4b337b53",
   "metadata": {},
   "outputs": [],
   "source": [
    "x = loaded_model.conv1"
   ]
  },
  {
   "cell_type": "code",
   "execution_count": 31,
   "id": "9af15b60",
   "metadata": {},
   "outputs": [
    {
     "data": {
      "text/plain": [
       "Conv2d(3, 16, kernel_size=(5, 5), stride=(1, 1), padding=(2, 2))"
      ]
     },
     "execution_count": 31,
     "metadata": {},
     "output_type": "execute_result"
    }
   ],
   "source": [
    "x."
   ]
  },
  {
   "cell_type": "code",
   "execution_count": 140,
   "id": "c0dee37b",
   "metadata": {},
   "outputs": [
    {
     "data": {
      "text/plain": [
       "22466"
      ]
     },
     "execution_count": 140,
     "metadata": {},
     "output_type": "execute_result"
    }
   ],
   "source": [
    "sum(p.numel() for p in loaded_model.parameters())"
   ]
  },
  {
   "cell_type": "code",
   "execution_count": null,
   "id": "cf7c6075",
   "metadata": {},
   "outputs": [],
   "source": [
    "##first run\n",
    "#see 6010\n"
   ]
  }
 ],
 "metadata": {
  "kernelspec": {
   "display_name": "Python 3.9 (torch)",
   "language": "python",
   "name": "torch"
  },
  "language_info": {
   "codemirror_mode": {
    "name": "ipython",
    "version": 3
   },
   "file_extension": ".py",
   "mimetype": "text/x-python",
   "name": "python",
   "nbconvert_exporter": "python",
   "pygments_lexer": "ipython3",
   "version": "3.9.5"
  }
 },
 "nbformat": 4,
 "nbformat_minor": 5
}
